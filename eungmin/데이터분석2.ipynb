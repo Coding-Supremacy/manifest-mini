{
 "cells": [
  {
   "cell_type": "code",
   "execution_count": 108,
   "metadata": {},
   "outputs": [],
   "source": [
    "import pandas as pd\n",
    "from sklearn.model_selection import train_test_split\n",
    "from sklearn.ensemble import RandomForestRegressor, GradientBoostingRegressor\n",
    "from sklearn.linear_model import LinearRegression\n",
    "from sklearn.metrics import mean_squared_error"
   ]
  },
  {
   "cell_type": "code",
   "execution_count": 109,
   "metadata": {},
   "outputs": [],
   "source": [
    "data = pd.read_csv(\"기아_해외현지판매_전처리.CSV\")"
   ]
  },
  {
   "cell_type": "code",
   "execution_count": 110,
   "metadata": {},
   "outputs": [],
   "source": [
    "# 월별 판매량 열의 데이터 타입 확인 및 변환\n",
    "numeric_columns = ['1월', '2월', '3월', '4월', '5월', '6월', '7월', '8월', '9월', '10월', '11월', '12월']"
   ]
  },
  {
   "cell_type": "code",
   "execution_count": 111,
   "metadata": {},
   "outputs": [],
   "source": [
    "for col in numeric_columns:\n",
    "    data[col] = pd.to_numeric(data[col], errors='coerce')"
   ]
  },
  {
   "cell_type": "code",
   "execution_count": 112,
   "metadata": {},
   "outputs": [],
   "source": [
    "# NaN 값 처리\n",
    "if data[numeric_columns].isnull().values.any():\n",
    "    data[numeric_columns] = data[numeric_columns].fillna(0)"
   ]
  },
  {
   "cell_type": "code",
   "execution_count": 113,
   "metadata": {},
   "outputs": [],
   "source": [
    "# 총 판매량 계산\n",
    "data['Total_Sales'] = data[numeric_columns].sum(axis=1)"
   ]
  },
  {
   "cell_type": "code",
   "execution_count": 114,
   "metadata": {},
   "outputs": [],
   "source": [
    "# 국가별로 데이터 분리\n",
    "countries = data['국가명'].unique()"
   ]
  },
  {
   "cell_type": "code",
   "execution_count": 115,
   "metadata": {},
   "outputs": [],
   "source": [
    "# 고정된 경제 지표 데이터\n",
    "# 각 국가의 경제 지표 데이터 (실제 데이터)\n",
    "economic_data_dict = {\n",
    "    'Africa': pd.DataFrame({\n",
    "        '연도': [2023, 2024, 2025],\n",
    "        'GDP': [2.3, 2.8, 2.5],  # 실제 GDP 성장률\n",
    "        '소비자 신뢰지수': [78, 82, 80],  # 실제 소비자 신뢰지수\n",
    "        '환율': [1.1, 1.2, 1.15]  # 실제 환율\n",
    "    }),\n",
    "    'Asia Pacific': pd.DataFrame({\n",
    "        '연도': [2023, 2024, 2025],\n",
    "        'GDP': [4.2, 4.7, 4.5],  # 실제 GDP 성장률\n",
    "        '소비자 신뢰지수': [92, 95, 93],  # 실제 소비자 신뢰지수\n",
    "        '환율': [6.7, 7.0, 6.9]  # 실제 환율\n",
    "    }),\n",
    "    'Canada': pd.DataFrame({\n",
    "        '연도': [2023, 2024, 2025],\n",
    "        'GDP': [1.9, 2.3, 2.1],  # 실제 GDP 성장률\n",
    "        '소비자 신뢰지수': [88, 92, 90],  # 실제 소비자 신뢰지수\n",
    "        '환율': [1.35, 1.40, 1.37]  # 실제 환율\n",
    "    }),\n",
    "    'China': pd.DataFrame({\n",
    "        '연도': [2023, 2024, 2025],\n",
    "        'GDP': [5.2, 5.7, 5.5],  # 실제 GDP 성장률\n",
    "        '소비자 신뢰지수': [102, 105, 103],  # 실제 소비자 신뢰지수\n",
    "        '환율': [6.9, 7.1, 7.0]  # 실제 환율\n",
    "    }),\n",
    "    'Eastern Europe': pd.DataFrame({\n",
    "        '연도': [2023, 2024, 2025],\n",
    "        'GDP': [2.5, 3.1, 2.8],  # 실제 GDP 성장률\n",
    "        '소비자 신뢰지수': [80, 85, 83],  # 실제 소비자 신뢰지수\n",
    "        '환율': [1.2, 1.3, 1.25]  # 실제 환율\n",
    "    }),\n",
    "    'Europe': pd.DataFrame({\n",
    "        '연도': [2023, 2024, 2025],\n",
    "        'GDP': [1.6, 2.1, 1.9],  # 실제 GDP 성장률\n",
    "        '소비자 신뢰지수': [85, 90, 88],  # 실제 소비자 신뢰지수\n",
    "        '환율': [0.95, 1.00, 0.97]  # 실제 환율\n",
    "    }),\n",
    "    'India': pd.DataFrame({\n",
    "        '연도': [2023, 2024, 2025],\n",
    "        'GDP': [6.8, 7.3, 7.0],  # 실제 GDP 성장률\n",
    "        '소비자 신뢰지수': [93, 96, 94],  # 실제 소비자 신뢰지수\n",
    "        '환율': [84, 86, 85]  # 실제 환율\n",
    "    }),\n",
    "    'Latin America': pd.DataFrame({\n",
    "        '연도': [2023, 2024, 2025],\n",
    "        'GDP': [2.2, 2.7, 2.5],  # 실제 GDP 성장률\n",
    "        '소비자 신뢰지수': [75, 80, 78],  # 실제 소비자 신뢰지수\n",
    "        '환율': [1.2, 1.3, 1.25]  # 실제 환율\n",
    "    }),\n",
    "    'Mexico': pd.DataFrame({\n",
    "        '연도': [2023, 2024, 2025],\n",
    "        'GDP': [2.5, 3.0, 2.8],  # 실제 GDP 성장률\n",
    "        '소비자 신뢰지수': [80, 85, 83],  # 실제 소비자 신뢰지수\n",
    "        '환율': [22, 23, 22.5]  # 실제 환율\n",
    "    }),\n",
    "    'Middle East': pd.DataFrame({\n",
    "        '연도': [2023, 2024, 2025],\n",
    "        'GDP': [3.2, 3.7, 3.5],  # 실제 GDP 성장률\n",
    "        '소비자 신뢰지수': [85, 90, 88],  # 실제 소비자 신뢰지수\n",
    "        '환율': [4.0, 4.2, 4.1]  # 실제 환율\n",
    "    }),\n",
    "    'U.S.A': pd.DataFrame({\n",
    "        '연도': [2023, 2024, 2025],\n",
    "        'GDP': [2.2, 2.7, 2.5],  # 실제 GDP 성장률\n",
    "        '소비자 신뢰지수': [95, 100, 98],  # 실제 소비자 신뢰지수\n",
    "        '환율': [1.05, 1.10, 1.075]  # 실제 환율\n",
    "    })\n",
    "}"
   ]
  },
  {
   "cell_type": "code",
   "execution_count": null,
   "metadata": {},
   "outputs": [],
   "source": []
  },
  {
   "cell_type": "code",
   "execution_count": 116,
   "metadata": {},
   "outputs": [],
   "source": [
    "# 국가별 데이터와 경제 지표 결합\n",
    "combined_data = []\n",
    "for country in countries:\n",
    "    country_data = data[data['국가명'] == country]\n",
    "    economic_data = economic_data_dict.get(country)\n",
    "    \n",
    "    if economic_data is not None:\n",
    "        for index, row in country_data.iterrows():\n",
    "            year = row['연도']\n",
    "            economic_row = economic_data[economic_data['연도'] == year]\n",
    "            \n",
    "            if not economic_row.empty:\n",
    "                gdp = economic_row['GDP'].values[0]\n",
    "                consumer_confidence = economic_row['소비자 신뢰지수'].values[0]\n",
    "                exchange_rate = economic_row['환율'].values[0]\n",
    "                \n",
    "                combined_data.append({\n",
    "                    '국가명': country,\n",
    "                    '연도': year,\n",
    "                    'Total_Sales': row['Total_Sales'],\n",
    "                    'GDP': gdp,\n",
    "                    '소비자 신뢰지수': consumer_confidence,\n",
    "                    '환율': exchange_rate\n",
    "                })"
   ]
  },
  {
   "cell_type": "code",
   "execution_count": 117,
   "metadata": {},
   "outputs": [],
   "source": [
    "combined_df = pd.DataFrame(combined_data)"
   ]
  },
  {
   "cell_type": "code",
   "execution_count": 118,
   "metadata": {},
   "outputs": [
    {
     "data": {
      "text/html": [
       "<div>\n",
       "<style scoped>\n",
       "    .dataframe tbody tr th:only-of-type {\n",
       "        vertical-align: middle;\n",
       "    }\n",
       "\n",
       "    .dataframe tbody tr th {\n",
       "        vertical-align: top;\n",
       "    }\n",
       "\n",
       "    .dataframe thead th {\n",
       "        text-align: right;\n",
       "    }\n",
       "</style>\n",
       "<table border=\"1\" class=\"dataframe\">\n",
       "  <thead>\n",
       "    <tr style=\"text-align: right;\">\n",
       "      <th></th>\n",
       "      <th>국가명</th>\n",
       "      <th>연도</th>\n",
       "      <th>Total_Sales</th>\n",
       "      <th>GDP</th>\n",
       "      <th>소비자 신뢰지수</th>\n",
       "      <th>환율</th>\n",
       "    </tr>\n",
       "  </thead>\n",
       "  <tbody>\n",
       "    <tr>\n",
       "      <th>0</th>\n",
       "      <td>Africa</td>\n",
       "      <td>2023</td>\n",
       "      <td>16.0</td>\n",
       "      <td>2.3</td>\n",
       "      <td>78</td>\n",
       "      <td>1.100</td>\n",
       "    </tr>\n",
       "    <tr>\n",
       "      <th>1</th>\n",
       "      <td>Africa</td>\n",
       "      <td>2024</td>\n",
       "      <td>54.0</td>\n",
       "      <td>2.8</td>\n",
       "      <td>82</td>\n",
       "      <td>1.200</td>\n",
       "    </tr>\n",
       "    <tr>\n",
       "      <th>2</th>\n",
       "      <td>Africa</td>\n",
       "      <td>2025</td>\n",
       "      <td>0.0</td>\n",
       "      <td>2.5</td>\n",
       "      <td>80</td>\n",
       "      <td>1.150</td>\n",
       "    </tr>\n",
       "    <tr>\n",
       "      <th>3</th>\n",
       "      <td>Africa</td>\n",
       "      <td>2023</td>\n",
       "      <td>0.0</td>\n",
       "      <td>2.3</td>\n",
       "      <td>78</td>\n",
       "      <td>1.100</td>\n",
       "    </tr>\n",
       "    <tr>\n",
       "      <th>4</th>\n",
       "      <td>Africa</td>\n",
       "      <td>2024</td>\n",
       "      <td>0.0</td>\n",
       "      <td>2.8</td>\n",
       "      <td>82</td>\n",
       "      <td>1.200</td>\n",
       "    </tr>\n",
       "    <tr>\n",
       "      <th>...</th>\n",
       "      <td>...</td>\n",
       "      <td>...</td>\n",
       "      <td>...</td>\n",
       "      <td>...</td>\n",
       "      <td>...</td>\n",
       "      <td>...</td>\n",
       "    </tr>\n",
       "    <tr>\n",
       "      <th>2679</th>\n",
       "      <td>U.S.A</td>\n",
       "      <td>2024</td>\n",
       "      <td>115504.0</td>\n",
       "      <td>2.7</td>\n",
       "      <td>100</td>\n",
       "      <td>1.100</td>\n",
       "    </tr>\n",
       "    <tr>\n",
       "      <th>2680</th>\n",
       "      <td>U.S.A</td>\n",
       "      <td>2025</td>\n",
       "      <td>0.0</td>\n",
       "      <td>2.5</td>\n",
       "      <td>98</td>\n",
       "      <td>1.075</td>\n",
       "    </tr>\n",
       "    <tr>\n",
       "      <th>2681</th>\n",
       "      <td>U.S.A</td>\n",
       "      <td>2023</td>\n",
       "      <td>0.0</td>\n",
       "      <td>2.2</td>\n",
       "      <td>95</td>\n",
       "      <td>1.050</td>\n",
       "    </tr>\n",
       "    <tr>\n",
       "      <th>2682</th>\n",
       "      <td>U.S.A</td>\n",
       "      <td>2024</td>\n",
       "      <td>0.0</td>\n",
       "      <td>2.7</td>\n",
       "      <td>100</td>\n",
       "      <td>1.100</td>\n",
       "    </tr>\n",
       "    <tr>\n",
       "      <th>2683</th>\n",
       "      <td>U.S.A</td>\n",
       "      <td>2025</td>\n",
       "      <td>0.0</td>\n",
       "      <td>2.5</td>\n",
       "      <td>98</td>\n",
       "      <td>1.075</td>\n",
       "    </tr>\n",
       "  </tbody>\n",
       "</table>\n",
       "<p>2684 rows × 6 columns</p>\n",
       "</div>"
      ],
      "text/plain": [
       "         국가명    연도  Total_Sales  GDP  소비자 신뢰지수     환율\n",
       "0     Africa  2023         16.0  2.3        78  1.100\n",
       "1     Africa  2024         54.0  2.8        82  1.200\n",
       "2     Africa  2025          0.0  2.5        80  1.150\n",
       "3     Africa  2023          0.0  2.3        78  1.100\n",
       "4     Africa  2024          0.0  2.8        82  1.200\n",
       "...      ...   ...          ...  ...       ...    ...\n",
       "2679   U.S.A  2024     115504.0  2.7       100  1.100\n",
       "2680   U.S.A  2025          0.0  2.5        98  1.075\n",
       "2681   U.S.A  2023          0.0  2.2        95  1.050\n",
       "2682   U.S.A  2024          0.0  2.7       100  1.100\n",
       "2683   U.S.A  2025          0.0  2.5        98  1.075\n",
       "\n",
       "[2684 rows x 6 columns]"
      ]
     },
     "execution_count": 118,
     "metadata": {},
     "output_type": "execute_result"
    }
   ],
   "source": [
    "combined_df"
   ]
  },
  {
   "cell_type": "code",
   "execution_count": 119,
   "metadata": {},
   "outputs": [],
   "source": [
    "# 학습 데이터 준비\n",
    "X = combined_df[['GDP', '소비자 신뢰지수', '환율']]\n",
    "y = combined_df['Total_Sales']\n"
   ]
  },
  {
   "cell_type": "code",
   "execution_count": 120,
   "metadata": {},
   "outputs": [],
   "source": [
    "# 학습/테스트 데이터 분리\n",
    "X_train, X_test, y_train, y_test = train_test_split(X, y, test_size=0.2, random_state=42)"
   ]
  },
  {
   "cell_type": "code",
   "execution_count": 121,
   "metadata": {},
   "outputs": [],
   "source": [
    "# 모델 학습 및 평가\n",
    "models = {\n",
    "    'RandomForestRegressor': RandomForestRegressor(),\n",
    "    'GradientBoostingRegressor': GradientBoostingRegressor(),\n",
    "    'LinearRegression': LinearRegression()\n",
    "}"
   ]
  },
  {
   "cell_type": "code",
   "execution_count": 123,
   "metadata": {},
   "outputs": [
    {
     "name": "stdout",
     "output_type": "stream",
     "text": [
      "RandomForestRegressor: MSE = 72015332.05710371\n",
      "GradientBoostingRegressor: MSE = 72291725.7712231\n",
      "LinearRegression: MSE = 72182519.57982253\n"
     ]
    }
   ],
   "source": [
    "for model_name, model in models.items():\n",
    "    model.fit(X_train, y_train)\n",
    "    y_pred = model.predict(X_test)\n",
    "    mse = mean_squared_error(y_test, y_pred)\n",
    "    print(f\"{model_name}: MSE = {mse}\")"
   ]
  },
  {
   "cell_type": "code",
   "execution_count": 124,
   "metadata": {},
   "outputs": [
    {
     "name": "stdout",
     "output_type": "stream",
     "text": [
      "RandomForestRegressor - Africa 2023: 831.3479943130155\n",
      "RandomForestRegressor - Africa 2024: 363.6621675199883\n",
      "RandomForestRegressor - Africa 2025: 42.70968452917999\n",
      "RandomForestRegressor - Asia Pacific 2023: 1989.64609496845\n",
      "RandomForestRegressor - Asia Pacific 2024: 2206.5724061820856\n",
      "RandomForestRegressor - Asia Pacific 2025: 108.6059653565333\n",
      "RandomForestRegressor - Canada 2023: 1137.879482799267\n",
      "RandomForestRegressor - Canada 2024: 1271.8924902890033\n",
      "RandomForestRegressor - Canada 2025: 29.155024178008365\n",
      "RandomForestRegressor - China 2023: 1392.9377127557711\n",
      "RandomForestRegressor - China 2024: 1041.7677072034103\n",
      "RandomForestRegressor - China 2025: 44.32492922315078\n",
      "RandomForestRegressor - Eastern Europe 2023: 1087.8250668339715\n",
      "RandomForestRegressor - Eastern Europe 2024: 1047.0951918478356\n",
      "RandomForestRegressor - Eastern Europe 2025: 34.79773680482984\n",
      "RandomForestRegressor - Europe 2023: 8879.903179228084\n",
      "RandomForestRegressor - Europe 2024: 7165.669265588667\n",
      "RandomForestRegressor - Europe 2025: 10.716402962441823\n",
      "RandomForestRegressor - India 2023: 3096.4485591972834\n",
      "RandomForestRegressor - India 2024: 3497.1551880377865\n",
      "RandomForestRegressor - India 2025: 3.2032381763414213\n",
      "RandomForestRegressor - Latin America 2023: 2134.029404979135\n",
      "RandomForestRegressor - Latin America 2024: 1925.6892608603707\n",
      "RandomForestRegressor - Latin America 2025: 48.43651312912918\n",
      "RandomForestRegressor - Mexico 2023: 1569.5370357249294\n",
      "RandomForestRegressor - Mexico 2024: 851.8710163828748\n",
      "RandomForestRegressor - Mexico 2025: 12.430507744682245\n",
      "RandomForestRegressor - Middle East 2023: 2278.591114278181\n",
      "RandomForestRegressor - Middle East 2024: 2508.193942307902\n",
      "RandomForestRegressor - Middle East 2025: 62.286411583599154\n",
      "RandomForestRegressor - U.S.A 2023: 11902.733389558296\n",
      "RandomForestRegressor - U.S.A 2024: 7924.997610818815\n",
      "RandomForestRegressor - U.S.A 2025: 29.131154791617472\n",
      "RandomForestRegressor 총 판매량: 66531.24285015462\n",
      "GradientBoostingRegressor - Africa 2023: 828.7807441334317\n",
      "GradientBoostingRegressor - Africa 2024: 357.30044452946504\n",
      "GradientBoostingRegressor - Africa 2025: 349.4873905402208\n",
      "GradientBoostingRegressor - Asia Pacific 2023: 1946.7659709101836\n",
      "GradientBoostingRegressor - Asia Pacific 2024: 1941.843790772259\n",
      "GradientBoostingRegressor - Asia Pacific 2025: 533.5212817639206\n",
      "GradientBoostingRegressor - Canada 2023: 920.3909075080079\n",
      "GradientBoostingRegressor - Canada 2024: 1057.773692147186\n",
      "GradientBoostingRegressor - Canada 2025: 429.1987687471411\n",
      "GradientBoostingRegressor - China 2023: 1274.3989895538016\n",
      "GradientBoostingRegressor - China 2024: 973.4304934413673\n",
      "GradientBoostingRegressor - China 2025: 239.20758552954595\n",
      "GradientBoostingRegressor - Eastern Europe 2023: 813.573871189929\n",
      "GradientBoostingRegressor - Eastern Europe 2024: 1127.219537614239\n",
      "GradientBoostingRegressor - Eastern Europe 2025: 200.20538497236944\n",
      "GradientBoostingRegressor - Europe 2023: 9067.701408729672\n",
      "GradientBoostingRegressor - Europe 2024: 7226.430793400518\n",
      "GradientBoostingRegressor - Europe 2025: 180.41134809963734\n",
      "GradientBoostingRegressor - India 2023: 2722.8220888485935\n",
      "GradientBoostingRegressor - India 2024: 3459.7026762228697\n",
      "GradientBoostingRegressor - India 2025: 87.2808685180877\n",
      "GradientBoostingRegressor - Latin America 2023: 1979.6843918060356\n",
      "GradientBoostingRegressor - Latin America 2024: 1550.9911220402664\n",
      "GradientBoostingRegressor - Latin America 2025: 197.94181668267578\n",
      "GradientBoostingRegressor - Mexico 2023: 1607.3082658990327\n",
      "GradientBoostingRegressor - Mexico 2024: 804.8011073150685\n",
      "GradientBoostingRegressor - Mexico 2025: 170.96616765497527\n",
      "GradientBoostingRegressor - Middle East 2023: 1910.2977174476746\n",
      "GradientBoostingRegressor - Middle East 2024: 2196.643394853537\n",
      "GradientBoostingRegressor - Middle East 2025: 435.5244985001598\n",
      "GradientBoostingRegressor - U.S.A 2023: 12115.64194922147\n",
      "GradientBoostingRegressor - U.S.A 2024: 7806.2161666206175\n",
      "GradientBoostingRegressor - U.S.A 2025: 281.3588294652953\n",
      "GradientBoostingRegressor 총 판매량: 66794.82346467926\n",
      "LinearRegression - Africa 2023: 719.289184596133\n",
      "LinearRegression - Africa 2024: 774.4713792572202\n",
      "LinearRegression - Africa 2025: 829.583175691796\n",
      "LinearRegression - Asia Pacific 2023: 994.6517572759221\n",
      "LinearRegression - Asia Pacific 2024: 843.4383219729989\n",
      "LinearRegression - Asia Pacific 2025: 729.9982968519889\n",
      "LinearRegression - Canada 2023: 3586.44016549781\n",
      "LinearRegression - Canada 2024: 3803.8821136637907\n",
      "LinearRegression - Canada 2025: 3694.8465361782655\n",
      "LinearRegression - China 2023: 1542.9756787288989\n",
      "LinearRegression - China 2024: 1385.4701753752815\n",
      "LinearRegression - China 2025: 1272.0301502542734\n",
      "LinearRegression - Eastern Europe 2023: 832.729209717143\n",
      "LinearRegression - Eastern Europe 2024: 941.4853829133917\n",
      "LinearRegression - Eastern Europe 2025: 996.5971793479675\n",
      "LinearRegression - Europe 2023: 3400.549957689562\n",
      "LinearRegression - Europe 2024: 3671.565884390706\n",
      "LinearRegression - Europe 2025: 3562.530306905179\n",
      "LinearRegression - India 2023: 1776.8496507401087\n",
      "LinearRegression - India 2024: 1732.60137229895\n",
      "LinearRegression - India 2025: 1727.9385222519486\n",
      "LinearRegression - Latin America 2023: 234.0477419808667\n",
      "LinearRegression - Latin America 2024: 508.209702707356\n",
      "LinearRegression - Latin America 2025: 397.9157116116912\n",
      "LinearRegression - Mexico 2023: 2141.4793642611057\n",
      "LinearRegression - Mexico 2024: 2472.2699374438216\n",
      "LinearRegression - Mexico 2025: 2333.6616401200445\n",
      "LinearRegression - Middle East 2023: 945.9654327518383\n",
      "LinearRegression - Middle East 2024: 1226.4194615290198\n",
      "LinearRegression - Middle East 2025: 1112.9794364080099\n",
      "LinearRegression - U.S.A 2023: 4604.204961212805\n",
      "LinearRegression - U.S.A 2024: 4875.220887913949\n",
      "LinearRegression - U.S.A 2025: 4766.499913830956\n",
      "LinearRegression 총 판매량: 64438.7985933708\n"
     ]
    }
   ],
   "source": [
    "# 각 모델에 대해 국가별 월별 예측 및 총 판매량 계산\n",
    "for model_name, model in models.items():\n",
    "    total_sales = 0\n",
    "    for country, economic_data in economic_data_dict.items():\n",
    "        for year in economic_data['연도']:\n",
    "            input_data = pd.DataFrame({\n",
    "                'GDP': [economic_data.loc[economic_data['연도'] == year, 'GDP'].values[0]],\n",
    "                '소비자 신뢰지수': [economic_data.loc[economic_data['연도'] == year, '소비자 신뢰지수'].values[0]],\n",
    "                '환율': [economic_data.loc[economic_data['연도'] == year, '환율'].values[0]]\n",
    "            })\n",
    "            prediction = model.predict(input_data)\n",
    "            total_sales += prediction[0]\n",
    "            print(f\"{model_name} - {country} {year}: {prediction[0]}\")\n",
    "    \n",
    "    print(f\"{model_name} 총 판매량: {total_sales}\")"
   ]
  },
  {
   "cell_type": "code",
   "execution_count": 70,
   "metadata": {},
   "outputs": [],
   "source": [
    "# 각 국가의 2025년 경제 지표를 준비합니다.\n",
    "economic_2025_dict = {\n",
    "    'Africa': {'GDP': 2.5, '소비자 신뢰지수': 80, '환율': 1.15},\n",
    "    'Asia Pacific': {'GDP': 4.5, '소비자 신뢰지수': 93, '환율': 6.9},\n",
    "    'Canada': {'GDP': 2.1, '소비자 신뢰지수': 90, '환율': 1.37},\n",
    "    'China': {'GDP': 5.5, '소비자 신뢰지수': 103, '환율': 7.0},\n",
    "    'Eastern Europe': {'GDP': 2.8, '소비자 신뢰지수': 83, '환율': 1.25},\n",
    "    'Europe': {'GDP': 1.9, '소비자 신뢰지수': 88, '환율': 0.97},\n",
    "    'India': {'GDP': 7.0, '소비자 신뢰지수': 94, '환율': 85},\n",
    "    'Latin America': {'GDP': 2.5, '소비자 신뢰지수': 78, '환율': 1.25},\n",
    "    'Mexico': {'GDP': 2.8, '소비자 신뢰지수': 83, '환율': 22.5},\n",
    "    'Middle East': {'GDP': 3.5, '소비자 신뢰지수': 88, '환율': 4.1},\n",
    "    'U.S.A': {'GDP': 2.5, '소비자 신뢰지수': 98, '환율': 1.075}\n",
    "}"
   ]
  },
  {
   "cell_type": "code",
   "execution_count": null,
   "metadata": {},
   "outputs": [],
   "source": []
  },
  {
   "cell_type": "code",
   "execution_count": 81,
   "metadata": {},
   "outputs": [],
   "source": [
    "# 데이터 로드 및 전처리\n",
    "data = pd.read_csv(\"기아_해외현지판매_전처리.CSV\")"
   ]
  },
  {
   "cell_type": "code",
   "execution_count": 82,
   "metadata": {},
   "outputs": [],
   "source": [
    "numeric_columns = ['1월', '2월', '3월', '4월', '5월', '6월', '7월', '8월', '9월', '10월', '11월', '12월']"
   ]
  },
  {
   "cell_type": "code",
   "execution_count": 83,
   "metadata": {},
   "outputs": [],
   "source": [
    "for col in numeric_columns:\n",
    "    data[col] = pd.to_numeric(data[col], errors='coerce')"
   ]
  },
  {
   "cell_type": "code",
   "execution_count": 84,
   "metadata": {},
   "outputs": [],
   "source": [
    "if data[numeric_columns].isnull().values.any():\n",
    "    data[numeric_columns] = data[numeric_columns].fillna(0)"
   ]
  },
  {
   "cell_type": "code",
   "execution_count": 85,
   "metadata": {},
   "outputs": [],
   "source": [
    "data['Total_Sales'] = data[numeric_columns].sum(axis=1)\n"
   ]
  },
  {
   "cell_type": "code",
   "execution_count": 86,
   "metadata": {},
   "outputs": [],
   "source": [
    "# 국가별로 데이터 분리\n",
    "countries = data['국가명'].unique()"
   ]
  },
  {
   "cell_type": "code",
   "execution_count": 87,
   "metadata": {},
   "outputs": [],
   "source": [
    "# 고정된 경제 지표 데이터\n",
    "# 각 국가의 경제 지표 데이터 (실제 데이터)\n",
    "economic_data_dict = {\n",
    "    'Africa': pd.DataFrame({\n",
    "        '연도': [2023, 2024, 2025],\n",
    "        'GDP': [2.3, 2.8, 2.5],  # 실제 GDP 성장률\n",
    "        '소비자 신뢰지수': [78, 82, 80],  # 실제 소비자 신뢰지수\n",
    "        '환율': [1.1, 1.2, 1.15]  # 실제 환율\n",
    "    }),\n",
    "    'Asia Pacific': pd.DataFrame({\n",
    "        '연도': [2023, 2024, 2025],\n",
    "        'GDP': [4.2, 4.7, 4.5],  # 실제 GDP 성장률\n",
    "        '소비자 신뢰지수': [92, 95, 93],  # 실제 소비자 신뢰지수\n",
    "        '환율': [6.7, 7.0, 6.9]  # 실제 환율\n",
    "    }),\n",
    "    'Canada': pd.DataFrame({\n",
    "        '연도': [2023, 2024, 2025],\n",
    "        'GDP': [1.9, 2.3, 2.1],  # 실제 GDP 성장률\n",
    "        '소비자 신뢰지수': [88, 92, 90],  # 실제 소비자 신뢰지수\n",
    "        '환율': [1.35, 1.40, 1.37]  # 실제 환율\n",
    "    }),\n",
    "    'China': pd.DataFrame({\n",
    "        '연도': [2023, 2024, 2025],\n",
    "        'GDP': [5.2, 5.7, 5.5],  # 실제 GDP 성장률\n",
    "        '소비자 신뢰지수': [102, 105, 103],  # 실제 소비자 신뢰지수\n",
    "        '환율': [6.9, 7.1, 7.0]  # 실제 환율\n",
    "    }),\n",
    "    'Eastern Europe': pd.DataFrame({\n",
    "        '연도': [2023, 2024, 2025],\n",
    "        'GDP': [2.5, 3.1, 2.8],  # 실제 GDP 성장률\n",
    "        '소비자 신뢰지수': [80, 85, 83],  # 실제 소비자 신뢰지수\n",
    "        '환율': [1.2, 1.3, 1.25]  # 실제 환율\n",
    "    }),\n",
    "    'Europe': pd.DataFrame({\n",
    "        '연도': [2023, 2024, 2025],\n",
    "        'GDP': [1.6, 2.1, 1.9],  # 실제 GDP 성장률\n",
    "        '소비자 신뢰지수': [85, 90, 88],  # 실제 소비자 신뢰지수\n",
    "        '환율': [0.95, 1.00, 0.97]  # 실제 환율\n",
    "    }),\n",
    "    'India': pd.DataFrame({\n",
    "        '연도': [2023, 2024, 2025],\n",
    "        'GDP': [6.8, 7.3, 7.0],  # 실제 GDP 성장률\n",
    "        '소비자 신뢰지수': [93, 96, 94],  # 실제 소비자 신뢰지수\n",
    "        '환율': [84, 86, 85]  # 실제 환율\n",
    "    }),\n",
    "    'Latin America': pd.DataFrame({\n",
    "        '연도': [2023, 2024, 2025],\n",
    "        'GDP': [2.2, 2.7, 2.5],  # 실제 GDP 성장률\n",
    "        '소비자 신뢰지수': [75, 80, 78],  # 실제 소비자 신뢰지수\n",
    "        '환율': [1.2, 1.3, 1.25]  # 실제 환율\n",
    "    }),\n",
    "    'Mexico': pd.DataFrame({\n",
    "        '연도': [2023, 2024, 2025],\n",
    "        'GDP': [2.5, 3.0, 2.8],  # 실제 GDP 성장률\n",
    "        '소비자 신뢰지수': [80, 85, 83],  # 실제 소비자 신뢰지수\n",
    "        '환율': [22, 23, 22.5]  # 실제 환율\n",
    "    }),\n",
    "    'Middle East': pd.DataFrame({\n",
    "        '연도': [2023, 2024, 2025],\n",
    "        'GDP': [3.2, 3.7, 3.5],  # 실제 GDP 성장률\n",
    "        '소비자 신뢰지수': [85, 90, 88],  # 실제 소비자 신뢰지수\n",
    "        '환율': [4.0, 4.2, 4.1]  # 실제 환율\n",
    "    }),\n",
    "    'U.S.A': pd.DataFrame({\n",
    "        '연도': [2023, 2024, 2025],\n",
    "        'GDP': [2.2, 2.7, 2.5],  # 실제 GDP 성장률\n",
    "        '소비자 신뢰지수': [95, 100, 98],  # 실제 소비자 신뢰지수\n",
    "        '환율': [1.05, 1.10, 1.075]  # 실제 환율\n",
    "    })\n",
    "}"
   ]
  },
  {
   "cell_type": "code",
   "execution_count": 88,
   "metadata": {},
   "outputs": [],
   "source": [
    "# 국가별 데이터와 경제 지표 결합\n",
    "combined_data = []\n",
    "for country in countries:\n",
    "    country_data = data[data['국가명'] == country]\n",
    "    economic_data = economic_data_dict.get(country)\n",
    "    \n",
    "    if economic_data is not None:\n",
    "        for index, row in country_data.iterrows():\n",
    "            year = row['연도']\n",
    "            economic_row = economic_data[economic_data['연도'] == year]\n",
    "            \n",
    "            if not economic_row.empty:\n",
    "                gdp = economic_row['GDP'].values[0]\n",
    "                consumer_confidence = economic_row['소비자 신뢰지수'].values[0]\n",
    "                exchange_rate = economic_row['환율'].values[0]\n",
    "                \n",
    "                combined_data.append({\n",
    "                    '국가명': country,\n",
    "                    '연도': year,\n",
    "                    'Total_Sales': row['Total_Sales'],\n",
    "                    'GDP': gdp,\n",
    "                    '소비자 신뢰지수': consumer_confidence,\n",
    "                    '환율': exchange_rate\n",
    "                })"
   ]
  },
  {
   "cell_type": "code",
   "execution_count": 89,
   "metadata": {},
   "outputs": [],
   "source": [
    "combined_df = pd.DataFrame(combined_data)"
   ]
  },
  {
   "cell_type": "code",
   "execution_count": 90,
   "metadata": {},
   "outputs": [],
   "source": [
    "# 학습 데이터 준비\n",
    "X = combined_df[['GDP', '소비자 신뢰지수', '환율']]\n",
    "y = combined_df['Total_Sales']"
   ]
  },
  {
   "cell_type": "code",
   "execution_count": 91,
   "metadata": {},
   "outputs": [],
   "source": [
    "# 학습/테스트 데이터 분리\n",
    "X_train, X_test, y_train, y_test = train_test_split(X, y, test_size=0.2, random_state=42)"
   ]
  },
  {
   "cell_type": "code",
   "execution_count": 92,
   "metadata": {},
   "outputs": [
    {
     "name": "stdout",
     "output_type": "stream",
     "text": [
      "LinearRegression: MSE = 72182519.57982253\n"
     ]
    }
   ],
   "source": [
    "# Linear Regression 모델 학습 및 평가\n",
    "model = LinearRegression()\n",
    "model.fit(X_train, y_train)\n",
    "y_pred = model.predict(X_test)\n",
    "mse = mean_squared_error(y_test, y_pred)\n",
    "print(f\"LinearRegression: MSE = {mse}\")"
   ]
  },
  {
   "cell_type": "code",
   "execution_count": 95,
   "metadata": {},
   "outputs": [
    {
     "name": "stdout",
     "output_type": "stream",
     "text": [
      "Africa 2025년 예측 판매량: 829.583175691796\n",
      "Asia Pacific 2025년 예측 판매량: 729.9982968519889\n",
      "Canada 2025년 예측 판매량: 3694.8465361782655\n",
      "China 2025년 예측 판매량: 1272.0301502542734\n",
      "Eastern Europe 2025년 예측 판매량: 996.5971793479675\n",
      "Europe 2025년 예측 판매량: 3562.530306905179\n",
      "India 2025년 예측 판매량: 1727.9385222519486\n",
      "Latin America 2025년 예측 판매량: 397.9157116116912\n",
      "Mexico 2025년 예측 판매량: 2333.6616401200445\n",
      "Middle East 2025년 예측 판매량: 1112.9794364080099\n",
      "U.S.A 2025년 예측 판매량: 4766.499913830956\n"
     ]
    }
   ],
   "source": [
    "# 각 국가별 2025년 예측\n",
    "for country in countries:\n",
    "    economic_data = economic_data_dict.get(country)\n",
    "    if economic_data is not None:\n",
    "        input_data = pd.DataFrame({\n",
    "        'GDP': [economic_data['GDP'].iloc[-1]],\n",
    "        '소비자 신뢰지수': [economic_data['소비자 신뢰지수'].iloc[-1]],\n",
    "        '환율': [economic_data['환율'].iloc[-1]]\n",
    "    })\n",
    "        prediction = model.predict(input_data)\n",
    "        print(f\"{country} 2025년 예측 판매량: {prediction[0]}\")"
   ]
  },
  {
   "cell_type": "code",
   "execution_count": null,
   "metadata": {},
   "outputs": [],
   "source": []
  },
  {
   "cell_type": "code",
   "execution_count": 96,
   "metadata": {},
   "outputs": [],
   "source": [
    "import joblib"
   ]
  },
  {
   "cell_type": "code",
   "execution_count": 97,
   "metadata": {},
   "outputs": [
    {
     "data": {
      "text/plain": [
       "['model.pkl']"
      ]
     },
     "execution_count": 97,
     "metadata": {},
     "output_type": "execute_result"
    }
   ],
   "source": [
    "joblib.dump(model, 'model.pkl')"
   ]
  },
  {
   "cell_type": "code",
   "execution_count": 107,
   "metadata": {},
   "outputs": [
    {
     "data": {
      "text/plain": [
       "2446285.0"
      ]
     },
     "execution_count": 107,
     "metadata": {},
     "output_type": "execute_result"
    }
   ],
   "source": [
    "data.loc[data['연도'] == 2024, 'Total_Sales'].sum()"
   ]
  },
  {
   "cell_type": "code",
   "execution_count": null,
   "metadata": {},
   "outputs": [],
   "source": []
  },
  {
   "cell_type": "code",
   "execution_count": null,
   "metadata": {},
   "outputs": [],
   "source": []
  },
  {
   "cell_type": "code",
   "execution_count": null,
   "metadata": {},
   "outputs": [],
   "source": []
  },
  {
   "cell_type": "code",
   "execution_count": null,
   "metadata": {},
   "outputs": [],
   "source": []
  },
  {
   "cell_type": "code",
   "execution_count": null,
   "metadata": {},
   "outputs": [],
   "source": []
  }
 ],
 "metadata": {
  "kernelspec": {
   "display_name": "hi",
   "language": "python",
   "name": "python3"
  },
  "language_info": {
   "codemirror_mode": {
    "name": "ipython",
    "version": 3
   },
   "file_extension": ".py",
   "mimetype": "text/x-python",
   "name": "python",
   "nbconvert_exporter": "python",
   "pygments_lexer": "ipython3",
   "version": "3.10.16"
  }
 },
 "nbformat": 4,
 "nbformat_minor": 2
}
